{
 "cells": [
  {
   "cell_type": "code",
   "execution_count": 1,
   "id": "35ed3122-30d0-427e-9b0f-58dd944bae08",
   "metadata": {},
   "outputs": [],
   "source": [
    "import os\n",
    "import csv\n",
    "import requests\n",
    "import bs4\n",
    "import pandas\n",
    "import re\n",
    "import time\n",
    "import datetime\n",
    "from tqdm import tqdm\n",
    "from selenium import webdriver\n",
    "from selenium.webdriver.common.by import By\n",
    "import numpy as np\n",
    "import pandas as pd\n",
    "from webdriver_manager.chrome import ChromeDriverManager\n",
    "import multiprocessing"
   ]
  },
  {
   "cell_type": "code",
   "execution_count": 2,
   "id": "feb6b927-a81c-4ff2-95ce-0176b5b3faeb",
   "metadata": {
    "tags": []
   },
   "outputs": [],
   "source": [
    "now = datetime.datetime.now()\n",
    "year = now.isoformat()[0:4]\n",
    "month = now.isoformat()[5:7]\n",
    "day = now.isoformat()[8:10]\n",
    "date = year+month+day"
   ]
  },
  {
   "cell_type": "code",
   "execution_count": 3,
   "id": "c2377d42-a5c3-4b32-88e9-5c65ac8621c8",
   "metadata": {},
   "outputs": [
    {
     "data": {
      "text/plain": [
       "'2023-05-24'"
      ]
     },
     "execution_count": 3,
     "metadata": {},
     "output_type": "execute_result"
    }
   ],
   "source": [
    "now.isoformat()[0:10]"
   ]
  },
  {
   "cell_type": "code",
   "execution_count": 4,
   "id": "ddc18a35-b8f7-485e-a58c-2ecb7e6a919e",
   "metadata": {},
   "outputs": [
    {
     "name": "stdout",
     "output_type": "stream",
     "text": [
      "https://finance.naver.com/research/company_list.naver?keyword=&brokerCode=&searchType=writeDate&writeFromDate=2018-01-01&writeToDate=2023-05-24&itemName=&itemCode=&x=0&y=0&page=\n"
     ]
    }
   ],
   "source": [
    "url = f'https://finance.naver.com/research/company_list.naver\\\n",
    "?keyword=&brokerCode=&searchType=\\\n",
    "writeDate&writeFromDate=2018-01-01&writeToDate={now.isoformat()[0:10]}&itemName=&itemCode=&x=0&y=0&page='\n",
    "print(url)"
   ]
  },
  {
   "cell_type": "code",
   "execution_count": 5,
   "id": "32dfd815-144b-4d44-a6fc-cccc34c9428b",
   "metadata": {
    "tags": []
   },
   "outputs": [
    {
     "name": "stderr",
     "output_type": "stream",
     "text": [
      "100%|████████████████████████████████████████████████████████████████████████████████| 722/722 [03:31<00:00,  3.41it/s]\n"
     ]
    }
   ],
   "source": [
    "page = 1\n",
    "next_link_text = \"다음\"\n",
    "stock_name_list = []\n",
    "link_list = []\n",
    "\n",
    "page_url = url + str(page)\n",
    "response = requests.get(page_url, headers={'User-Agent': 'Mozill4a/5.0'})\n",
    "soup = bs4.BeautifulSoup(response.text, 'html.parser')\n",
    "last_page = soup.select('table tr td a')[-6]['href'].split('/')[-1].split('=')[-1]\n",
    "\n",
    "for _ in tqdm(range(int(last_page))):\n",
    "    \n",
    "    page_url = url + str(page)\n",
    "    response = requests.get(page_url, headers={'User-Agent': 'Mozill4a/5.0'})\n",
    "    soup = bs4.BeautifulSoup(response.text, 'html.parser')\n",
    "    stock_name = soup.select('table a.stock_item')[0:30]\n",
    "    link = soup.select('table td:nth-child(2) a')[:-6]\n",
    "    for i in range(len(soup.select('table a[target]'))):\n",
    "        stock_name_list.append(stock_name[i].text)\n",
    "        link_list.append('https://finance.naver.com/research/' + link[i]['href'])\n",
    "    page += 1"
   ]
  },
  {
   "cell_type": "code",
   "execution_count": 6,
   "id": "8cebcefa-6504-4621-8fdb-0fe03754218c",
   "metadata": {
    "tags": []
   },
   "outputs": [
    {
     "data": {
      "text/plain": [
       "21650"
      ]
     },
     "execution_count": 6,
     "metadata": {},
     "output_type": "execute_result"
    }
   ],
   "source": [
    "len(link_list)"
   ]
  },
  {
   "cell_type": "code",
   "execution_count": 9,
   "id": "d844782d-09c8-4287-991d-fb6ef6c549e9",
   "metadata": {
    "tags": []
   },
   "outputs": [
    {
     "name": "stderr",
     "output_type": "stream",
     "text": [
      "100%|██████████████████████████████████████████████████████████████████████████| 21650/21650 [1:08:26<00:00,  5.27it/s]\n"
     ]
    }
   ],
   "source": [
    "stock_name_list = []\n",
    "title_list = []\n",
    "content_list = []\n",
    "target_price_list = []\n",
    "opinion_list = []\n",
    "broker_list = []\n",
    "time_list = []\n",
    "view_cnt_list = []\n",
    "pdf_link_list = []\n",
    "\n",
    "\n",
    "for page_url in tqdm(link_list):\n",
    "\n",
    "    response = requests.get(page_url, headers={'User-Agent': 'Mozill4a/5.0'})\n",
    "    soup = bs4.BeautifulSoup(response.text, 'html.parser')\n",
    "\n",
    "    # 종목명\n",
    "    stock_name = soup.select('th.view_sbj span em')[0].text\n",
    "    stock_name_list.append(stock_name)\n",
    "\n",
    "    # 제목\n",
    "    title = soup.select('th.view_sbj')[0].text.replace('\\t', '').strip().split('\\n')[1]\n",
    "    title_list.append(title)\n",
    "\n",
    "    # 증권사\n",
    "    broker = soup.select('th.view_sbj')[0].text.replace('\\t', '').strip().split('\\n')[2].split('|')[0]\n",
    "    broker_list.append(broker)\n",
    "\n",
    "    # 업로드 시간\n",
    "    time = soup.select('th.view_sbj')[0].text.replace('\\t', '').strip().split('\\n')[2].split('|')[1]\n",
    "    time_list.append(time)\n",
    "\n",
    "    # 조회 수\n",
    "    view_cnt = ''.join(filter(str.isdigit, soup.select('th.view_sbj')[0].text.replace('\\t', '').strip().split('\\n')[2].split('|')[2]))\n",
    "    view_cnt_list.append(view_cnt)\n",
    "    \n",
    "    # 내용\n",
    "    content = ':'.join([i.text for i in soup.select('table div font')])\n",
    "    content_list.append(content)  \n",
    "    try:\n",
    "        # 목표가\n",
    "        target_price = soup.select('em.money > strong')[0].text.replace(',', '')\n",
    "        target_price_list.append(target_price)\n",
    "        \n",
    "        # 의견\n",
    "        opinion = soup.select('em.coment')[0].text\n",
    "        opinion_list.append(opinion)\n",
    "    except:\n",
    "        target_price_list.append(-999999)\n",
    "        opinion_list.append('no_opinion')\n",
    "\n",
    "    try:\n",
    "        # 리포트 링크\n",
    "        pdf_link = soup.select('table td div a')[0]['href']\n",
    "        pdf_link_list.append(pdf_link)\n",
    "    except:\n",
    "        pdf_link_list.append('no_pdf')"
   ]
  },
  {
   "cell_type": "code",
   "execution_count": 10,
   "id": "0ccc9bcf-52db-47ab-b4e8-3d1e2e168d37",
   "metadata": {
    "tags": []
   },
   "outputs": [],
   "source": [
    "df = pd.DataFrame({'종목명' : stock_name_list,\n",
    "                   '제목' : title_list,\n",
    "                   '내용' : content_list,\n",
    "                   '증권사' : broker_list,\n",
    "                   '날짜' : time_list,\n",
    "                   '조회수' : view_cnt_list,\n",
    "                   '목표가' : target_price_list,\n",
    "                   '의견' : opinion_list,\n",
    "                   '리포트링크' : pdf_link_list})"
   ]
  },
  {
   "cell_type": "code",
   "execution_count": 37,
   "id": "0f287048-4e08-487a-8e55-7608d892dcdc",
   "metadata": {
    "tags": []
   },
   "outputs": [],
   "source": [
    "df['fname'] = df['종목명'] + '_' + df['증권사'] + '_' + df['날짜']"
   ]
  },
  {
   "cell_type": "code",
   "execution_count": null,
   "id": "57059a5c-0d93-40cd-b07b-75254816e40f",
   "metadata": {
    "tags": []
   },
   "outputs": [],
   "source": []
  },
  {
   "cell_type": "code",
   "execution_count": 6,
   "id": "564351b8-f806-45c1-9095-3aa50c05e854",
   "metadata": {
    "tags": []
   },
   "outputs": [
    {
     "data": {
      "text/html": [
       "<div>\n",
       "<style scoped>\n",
       "    .dataframe tbody tr th:only-of-type {\n",
       "        vertical-align: middle;\n",
       "    }\n",
       "\n",
       "    .dataframe tbody tr th {\n",
       "        vertical-align: top;\n",
       "    }\n",
       "\n",
       "    .dataframe thead th {\n",
       "        text-align: right;\n",
       "    }\n",
       "</style>\n",
       "<table border=\"1\" class=\"dataframe\">\n",
       "  <thead>\n",
       "    <tr style=\"text-align: right;\">\n",
       "      <th></th>\n",
       "      <th>종목명</th>\n",
       "      <th>제목</th>\n",
       "      <th>내용</th>\n",
       "      <th>증권사</th>\n",
       "      <th>날짜</th>\n",
       "      <th>조회수</th>\n",
       "      <th>목표가</th>\n",
       "      <th>의견</th>\n",
       "      <th>리포트링크</th>\n",
       "      <th>fname</th>\n",
       "    </tr>\n",
       "  </thead>\n",
       "  <tbody>\n",
       "    <tr>\n",
       "      <th>0</th>\n",
       "      <td>효성첨단소재</td>\n",
       "      <td>탄소섬유, 성장 가속화</td>\n",
       "      <td>2024년 1.4만톤으로 1년 앞당겨진 탄소섬유 증설 계획::효성첨단소재가 탄소섬유...</td>\n",
       "      <td>하나증권</td>\n",
       "      <td>2023.05.22</td>\n",
       "      <td>1112</td>\n",
       "      <td>560000</td>\n",
       "      <td>Buy</td>\n",
       "      <td>https://ssl.pstatic.net/imgstock/upload/resear...</td>\n",
       "      <td>효성첨단소재_하나증권_2023.05.22</td>\n",
       "    </tr>\n",
       "    <tr>\n",
       "      <th>1</th>\n",
       "      <td>대동</td>\n",
       "      <td>K-농기계 대표주자</td>\n",
       "      <td>오랜 업력 지닌 농기계 전문기업::- 1947년에 설립된 농기계 전문 업체로 오랜 ...</td>\n",
       "      <td>DS투자증권</td>\n",
       "      <td>2023.05.22</td>\n",
       "      <td>671</td>\n",
       "      <td>17000</td>\n",
       "      <td>매수</td>\n",
       "      <td>https://ssl.pstatic.net/imgstock/upload/resear...</td>\n",
       "      <td>대동_DS투자증권_2023.05.22</td>\n",
       "    </tr>\n",
       "    <tr>\n",
       "      <th>2</th>\n",
       "      <td>디케이락</td>\n",
       "      <td>실적 좋고, 모멘텀 있고</td>\n",
       "      <td>투자의견 매수, 목표주가 15,500 원 유지::23F매출액: 1,304억원, 영업...</td>\n",
       "      <td>대신증권</td>\n",
       "      <td>2023.05.22</td>\n",
       "      <td>599</td>\n",
       "      <td>15500</td>\n",
       "      <td>Buy</td>\n",
       "      <td>https://ssl.pstatic.net/imgstock/upload/resear...</td>\n",
       "      <td>디케이락_대신증권_2023.05.22</td>\n",
       "    </tr>\n",
       "    <tr>\n",
       "      <th>3</th>\n",
       "      <td>아스플로</td>\n",
       "      <td>국산화는 진행 중</td>\n",
       "      <td>투자의견 Market Perform, 목표주가 14,500원 유지::23E 매출액:...</td>\n",
       "      <td>대신증권</td>\n",
       "      <td>2023.05.22</td>\n",
       "      <td>761</td>\n",
       "      <td>14500</td>\n",
       "      <td>MarketPerform</td>\n",
       "      <td>https://ssl.pstatic.net/imgstock/upload/resear...</td>\n",
       "      <td>아스플로_대신증권_2023.05.22</td>\n",
       "    </tr>\n",
       "    <tr>\n",
       "      <th>4</th>\n",
       "      <td>하이록코리아</td>\n",
       "      <td>해양플랜트는 계속된다</td>\n",
       "      <td>투자의견 매수, 목표주가 35,000 원 유지::23F 매출액: 2,180억원, 영...</td>\n",
       "      <td>대신증권</td>\n",
       "      <td>2023.05.22</td>\n",
       "      <td>440</td>\n",
       "      <td>35000</td>\n",
       "      <td>Buy</td>\n",
       "      <td>https://ssl.pstatic.net/imgstock/upload/resear...</td>\n",
       "      <td>하이록코리아_대신증권_2023.05.22</td>\n",
       "    </tr>\n",
       "    <tr>\n",
       "      <th>...</th>\n",
       "      <td>...</td>\n",
       "      <td>...</td>\n",
       "      <td>...</td>\n",
       "      <td>...</td>\n",
       "      <td>...</td>\n",
       "      <td>...</td>\n",
       "      <td>...</td>\n",
       "      <td>...</td>\n",
       "      <td>...</td>\n",
       "      <td>...</td>\n",
       "    </tr>\n",
       "    <tr>\n",
       "      <th>21645</th>\n",
       "      <td>LG전자</td>\n",
       "      <td>4분기 예상 매출액 14조 4,676억원, 영업이익 2,524억원(LG이노텍 제외)</td>\n",
       "      <td>4분기 예상 매출액 14조 4,676억원, 영업이익 2,524억원(LG이노텍 ::L...</td>\n",
       "      <td>IBK투자증권</td>\n",
       "      <td>2018.01.03</td>\n",
       "      <td>3403</td>\n",
       "      <td>130000</td>\n",
       "      <td>매수</td>\n",
       "      <td>http://imgstock.naver.com/upload/research/comp...</td>\n",
       "      <td>LG전자_IBK투자증권_2018.01.03</td>\n",
       "    </tr>\n",
       "    <tr>\n",
       "      <th>21646</th>\n",
       "      <td>코오롱인더</td>\n",
       "      <td>본인 좋아져. 친구가 도와줘. 그래서 Top-Pick</td>\n",
       "      <td>NaN</td>\n",
       "      <td>교보증권</td>\n",
       "      <td>2018.01.02</td>\n",
       "      <td>5029</td>\n",
       "      <td>115000</td>\n",
       "      <td>Buy</td>\n",
       "      <td>http://imgstock.naver.com/upload/research/comp...</td>\n",
       "      <td>코오롱인더_교보증권_2018.01.02</td>\n",
       "    </tr>\n",
       "    <tr>\n",
       "      <th>21647</th>\n",
       "      <td>강원랜드</td>\n",
       "      <td>이렇게까지 규제할 필요가 있을까</td>\n",
       "      <td>NaN</td>\n",
       "      <td>하나증권</td>\n",
       "      <td>2018.01.02</td>\n",
       "      <td>2741</td>\n",
       "      <td>37000</td>\n",
       "      <td>Buy</td>\n",
       "      <td>http://imgstock.naver.com/upload/research/comp...</td>\n",
       "      <td>강원랜드_하나증권_2018.01.02</td>\n",
       "    </tr>\n",
       "    <tr>\n",
       "      <th>21648</th>\n",
       "      <td>SK하이닉스</td>\n",
       "      <td>호실적은 2018년에도 지속 가능</td>\n",
       "      <td>NaN</td>\n",
       "      <td>하나증권</td>\n",
       "      <td>2018.01.02</td>\n",
       "      <td>9621</td>\n",
       "      <td>110000</td>\n",
       "      <td>Buy</td>\n",
       "      <td>http://imgstock.naver.com/upload/research/comp...</td>\n",
       "      <td>SK하이닉스_하나증권_2018.01.02</td>\n",
       "    </tr>\n",
       "    <tr>\n",
       "      <th>21649</th>\n",
       "      <td>현대로보틱스</td>\n",
       "      <td>불확실성 해소와 현대오일뱅크 IPO</td>\n",
       "      <td>NaN</td>\n",
       "      <td>이베스트증권</td>\n",
       "      <td>2018.01.02</td>\n",
       "      <td>4625</td>\n",
       "      <td>570000</td>\n",
       "      <td>Buy</td>\n",
       "      <td>http://imgstock.naver.com/upload/research/comp...</td>\n",
       "      <td>현대로보틱스_이베스트증권_2018.01.02</td>\n",
       "    </tr>\n",
       "  </tbody>\n",
       "</table>\n",
       "<p>21650 rows × 10 columns</p>\n",
       "</div>"
      ],
      "text/plain": [
       "          종목명                                              제목   \n",
       "0      효성첨단소재                                    탄소섬유, 성장 가속화  \\\n",
       "1          대동                                      K-농기계 대표주자   \n",
       "2        디케이락                                   실적 좋고, 모멘텀 있고   \n",
       "3        아스플로                                       국산화는 진행 중   \n",
       "4      하이록코리아                                     해양플랜트는 계속된다   \n",
       "...       ...                                             ...   \n",
       "21645    LG전자  4분기 예상 매출액 14조 4,676억원, 영업이익 2,524억원(LG이노텍 제외)   \n",
       "21646   코오롱인더                   본인 좋아져. 친구가 도와줘. 그래서 Top-Pick   \n",
       "21647    강원랜드                               이렇게까지 규제할 필요가 있을까   \n",
       "21648  SK하이닉스                              호실적은 2018년에도 지속 가능   \n",
       "21649  현대로보틱스                             불확실성 해소와 현대오일뱅크 IPO   \n",
       "\n",
       "                                                      내용      증권사          날짜   \n",
       "0      2024년 1.4만톤으로 1년 앞당겨진 탄소섬유 증설 계획::효성첨단소재가 탄소섬유...     하나증권  2023.05.22  \\\n",
       "1      오랜 업력 지닌 농기계 전문기업::- 1947년에 설립된 농기계 전문 업체로 오랜 ...   DS투자증권  2023.05.22   \n",
       "2      투자의견 매수, 목표주가 15,500 원 유지::23F매출액: 1,304억원, 영업...     대신증권  2023.05.22   \n",
       "3      투자의견 Market Perform, 목표주가 14,500원 유지::23E 매출액:...     대신증권  2023.05.22   \n",
       "4      투자의견 매수, 목표주가 35,000 원 유지::23F 매출액: 2,180억원, 영...     대신증권  2023.05.22   \n",
       "...                                                  ...      ...         ...   \n",
       "21645  4분기 예상 매출액 14조 4,676억원, 영업이익 2,524억원(LG이노텍 ::L...  IBK투자증권  2018.01.03   \n",
       "21646                                                NaN     교보증권  2018.01.02   \n",
       "21647                                                NaN     하나증권  2018.01.02   \n",
       "21648                                                NaN     하나증권  2018.01.02   \n",
       "21649                                                NaN   이베스트증권  2018.01.02   \n",
       "\n",
       "        조회수     목표가             의견   \n",
       "0      1112  560000            Buy  \\\n",
       "1       671   17000             매수   \n",
       "2       599   15500            Buy   \n",
       "3       761   14500  MarketPerform   \n",
       "4       440   35000            Buy   \n",
       "...     ...     ...            ...   \n",
       "21645  3403  130000             매수   \n",
       "21646  5029  115000            Buy   \n",
       "21647  2741   37000            Buy   \n",
       "21648  9621  110000            Buy   \n",
       "21649  4625  570000            Buy   \n",
       "\n",
       "                                                   리포트링크   \n",
       "0      https://ssl.pstatic.net/imgstock/upload/resear...  \\\n",
       "1      https://ssl.pstatic.net/imgstock/upload/resear...   \n",
       "2      https://ssl.pstatic.net/imgstock/upload/resear...   \n",
       "3      https://ssl.pstatic.net/imgstock/upload/resear...   \n",
       "4      https://ssl.pstatic.net/imgstock/upload/resear...   \n",
       "...                                                  ...   \n",
       "21645  http://imgstock.naver.com/upload/research/comp...   \n",
       "21646  http://imgstock.naver.com/upload/research/comp...   \n",
       "21647  http://imgstock.naver.com/upload/research/comp...   \n",
       "21648  http://imgstock.naver.com/upload/research/comp...   \n",
       "21649  http://imgstock.naver.com/upload/research/comp...   \n",
       "\n",
       "                          fname  \n",
       "0        효성첨단소재_하나증권_2023.05.22  \n",
       "1          대동_DS투자증권_2023.05.22  \n",
       "2          디케이락_대신증권_2023.05.22  \n",
       "3          아스플로_대신증권_2023.05.22  \n",
       "4        하이록코리아_대신증권_2023.05.22  \n",
       "...                         ...  \n",
       "21645   LG전자_IBK투자증권_2018.01.03  \n",
       "21646     코오롱인더_교보증권_2018.01.02  \n",
       "21647      강원랜드_하나증권_2018.01.02  \n",
       "21648    SK하이닉스_하나증권_2018.01.02  \n",
       "21649  현대로보틱스_이베스트증권_2018.01.02  \n",
       "\n",
       "[21650 rows x 10 columns]"
      ]
     },
     "execution_count": 6,
     "metadata": {},
     "output_type": "execute_result"
    }
   ],
   "source": [
    "df = pd.read_csv('증권사 리포트.csv', index_col = 0)\n",
    "df['fname'] = df['종목명'] + '_' + df['증권사'] + '_' + df['날짜']\n",
    "df"
   ]
  },
  {
   "cell_type": "code",
   "execution_count": null,
   "id": "bee31aab-3e7f-4fe4-a416-9f5212dfffdc",
   "metadata": {},
   "outputs": [],
   "source": []
  },
  {
   "cell_type": "code",
   "execution_count": null,
   "id": "c2e7a03f-f185-4180-858e-a3cc27e50586",
   "metadata": {},
   "outputs": [],
   "source": []
  },
  {
   "cell_type": "code",
   "execution_count": null,
   "id": "2a7e94b3-c0d7-40a8-b90f-a3f0fb05603f",
   "metadata": {},
   "outputs": [],
   "source": []
  }
 ],
 "metadata": {
  "kernelspec": {
   "display_name": "Python 3 (ipykernel)",
   "language": "python",
   "name": "python3"
  },
  "language_info": {
   "codemirror_mode": {
    "name": "ipython",
    "version": 3
   },
   "file_extension": ".py",
   "mimetype": "text/x-python",
   "name": "python",
   "nbconvert_exporter": "python",
   "pygments_lexer": "ipython3",
   "version": "3.10.10"
  }
 },
 "nbformat": 4,
 "nbformat_minor": 5
}
